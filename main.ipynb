{
 "cells": [
  {
   "metadata": {},
   "cell_type": "code",
   "source": [
    "# Setting auto reloading for imported modules\n",
    "# %load_ext autoreload\n",
    "# %autoreload 2"
   ],
   "id": "829fec249ab9daf",
   "outputs": [],
   "execution_count": null
  },
  {
   "metadata": {},
   "cell_type": "code",
   "source": [
    "import pickle\n",
    "import pandas as pd\n",
    "import numpy as np\n",
    "import matplotlib.pyplot as plt\n",
    "import missingno as msno\n",
    "from matplotlib.ticker import FormatStrFormatter\n",
    "from auxiliary_functions import PreprocessingUtils"
   ],
   "id": "initial_id",
   "outputs": [],
   "execution_count": null
  },
  {
   "metadata": {},
   "cell_type": "code",
   "source": "prep_utils = PreprocessingUtils()",
   "id": "ab64a4f51aae01bf",
   "outputs": [],
   "execution_count": null
  },
  {
   "metadata": {},
   "cell_type": "code",
   "source": [
    "ga_sessions_path = 'data/skillbox_diploma_main_dataset_sberautopodpiska/ga_sessions.csv'\n",
    "sessions_df = pd.read_csv(ga_sessions_path, low_memory=False)\n",
    "sessions_df.head()"
   ],
   "id": "6414611df3a8484f",
   "outputs": [],
   "execution_count": null
  },
  {
   "metadata": {},
   "cell_type": "code",
   "source": [
    "ga_hits_path = 'data/ga_hits-002.csv'\n",
    "hits_df = pd.read_csv(ga_hits_path, low_memory=False)\n",
    "hits_df.head()"
   ],
   "id": "65eb2b25b0c7981c",
   "outputs": [],
   "execution_count": null
  },
  {
   "metadata": {},
   "cell_type": "markdown",
   "source": "**Data preprocessing**",
   "id": "6a02cdef04e66a44"
  },
  {
   "metadata": {},
   "cell_type": "code",
   "source": "prep_utils.print_basic_stats(sessions_df, level='shape')",
   "id": "8b64e6b75c65ba83",
   "outputs": [],
   "execution_count": null
  },
  {
   "metadata": {},
   "cell_type": "code",
   "source": "prep_utils.print_basic_stats(hits_df, level='shape')",
   "id": "d774ebc4c518b222",
   "outputs": [],
   "execution_count": null
  },
  {
   "metadata": {},
   "cell_type": "code",
   "source": "sessions_df.describe(include='all')",
   "id": "53d32a3d19dbc8c3",
   "outputs": [],
   "execution_count": null
  },
  {
   "metadata": {},
   "cell_type": "code",
   "source": "hits_df.describe(include='all')",
   "id": "759c174a4ade86d0",
   "outputs": [],
   "execution_count": null
  },
  {
   "metadata": {},
   "cell_type": "code",
   "source": [
    "prep_utils.check_duplicates(sessions_df)\n",
    "prep_utils.check_duplicates(hits_df)"
   ],
   "id": "f2a95c20041219a6",
   "outputs": [],
   "execution_count": null
  },
  {
   "metadata": {},
   "cell_type": "code",
   "source": "msno.matrix(sessions_df);",
   "id": "aaf84e2e4826c75f",
   "outputs": [],
   "execution_count": null
  },
  {
   "metadata": {},
   "cell_type": "code",
   "source": "msno.matrix(hits_df);",
   "id": "9389ab6e6039cabb",
   "outputs": [],
   "execution_count": null
  },
  {
   "metadata": {},
   "cell_type": "markdown",
   "source": [
    "*Handle Missing Values*\n",
    "<br>\n",
    "*Sessions dataframe*"
   ],
   "id": "adb6ed9371fbd168"
  },
  {
   "metadata": {},
   "cell_type": "code",
   "source": "sessions_df_clean = sessions_df.copy()",
   "id": "c15e238151ccf64a",
   "outputs": [],
   "execution_count": null
  },
  {
   "metadata": {},
   "cell_type": "code",
   "source": "sessions_df_clean.head()",
   "id": "40509ef2e99fbeaa",
   "outputs": [],
   "execution_count": null
  },
  {
   "metadata": {},
   "cell_type": "code",
   "source": "prep_utils.missing_values_percentage(sessions_df_clean)",
   "id": "fbac5381e37157b4",
   "outputs": [],
   "execution_count": null
  },
  {
   "metadata": {},
   "cell_type": "code",
   "source": "sessions_df_clean[sessions_df_clean.device_model.notna()]",
   "id": "8adebb1cdd8ca8a7",
   "outputs": [],
   "execution_count": null
  },
  {
   "metadata": {},
   "cell_type": "code",
   "source": "sessions_df_clean.device_model.value_counts()",
   "id": "fba9bb456a93ad6",
   "outputs": [],
   "execution_count": null
  },
  {
   "metadata": {},
   "cell_type": "code",
   "source": [
    "sessions_df_clean = sessions_df_clean.drop(columns=['device_model'], axis=1)\n",
    "prep_utils.missing_values_percentage(sessions_df_clean)"
   ],
   "id": "8f25d693065c9cf0",
   "outputs": [],
   "execution_count": null
  },
  {
   "metadata": {},
   "cell_type": "code",
   "source": "sessions_df_clean[sessions_df_clean.utm_source.isna()].head(20)",
   "id": "4f7e6119cf7641f",
   "outputs": [],
   "execution_count": null
  },
  {
   "metadata": {},
   "cell_type": "code",
   "source": "sessions_df_clean[(sessions_df_clean.utm_source.isna()) & (sessions_df_clean.visit_number == 1)]",
   "id": "ab8d613bcf0cfbfa",
   "outputs": [],
   "execution_count": null
  },
  {
   "metadata": {},
   "cell_type": "code",
   "source": "sessions_df_clean[sessions_df_clean.utm_source.notna()].head(10)",
   "id": "e7d9c32eb498a370",
   "outputs": [],
   "execution_count": null
  },
  {
   "metadata": {},
   "cell_type": "code",
   "source": [
    "sessions_df_clean.utm_source = sessions_df_clean.utm_source.fillna('(not set)')\n",
    "prep_utils.missing_values_percentage(sessions_df_clean)"
   ],
   "id": "bb6c37459619f55b",
   "outputs": [],
   "execution_count": null
  },
  {
   "metadata": {},
   "cell_type": "code",
   "source": "sessions_df_clean[sessions_df_clean.device_os.isna()].head()",
   "id": "82e0230aadccb83f",
   "outputs": [],
   "execution_count": null
  },
  {
   "metadata": {},
   "cell_type": "code",
   "source": "sessions_df_clean.device_os.value_counts()",
   "id": "3a9ed6128f3b8b36",
   "outputs": [],
   "execution_count": null
  },
  {
   "metadata": {},
   "cell_type": "code",
   "source": [
    "brands_w_missing_os = sessions_df_clean[sessions_df_clean.device_os.isna()].device_brand.value_counts().to_dict()\n",
    "brands_w_missing_os"
   ],
   "id": "ee6b14dc1e32240e",
   "outputs": [],
   "execution_count": null
  },
  {
   "metadata": {},
   "cell_type": "code",
   "source": "sessions_df_clean.loc[(sessions_df_clean.device_os.isna()) & (sessions_df_clean.device_brand == 'Apple'), 'device_os'] = 'iOS'",
   "id": "cc8de1e70dbc48b5",
   "outputs": [],
   "execution_count": null
  },
  {
   "metadata": {},
   "cell_type": "code",
   "source": [
    "android_based = ['Samsung', 'Xiaomi', 'Huawei', 'Realme']\n",
    "sessions_df_clean.loc[(sessions_df_clean.device_os.isna()) & (sessions_df_clean.device_brand.isin(android_based)), 'device_os'] = 'Android'"
   ],
   "id": "7d20adcdd83ca7e3",
   "outputs": [],
   "execution_count": null
  },
  {
   "metadata": {},
   "cell_type": "code",
   "source": "sessions_df_clean.device_os = sessions_df_clean.device_os.fillna('(not set)')",
   "id": "803b1fe05fec80dc",
   "outputs": [],
   "execution_count": null
  },
  {
   "metadata": {},
   "cell_type": "code",
   "source": "prep_utils.missing_values_percentage(sessions_df_clean)",
   "id": "34c88fb6cba938c8",
   "outputs": [],
   "execution_count": null
  },
  {
   "metadata": {},
   "cell_type": "code",
   "source": "sessions_df_clean[sessions_df_clean.utm_keyword.isna()].head(20)",
   "id": "3e34d844739b853d",
   "outputs": [],
   "execution_count": null
  },
  {
   "metadata": {},
   "cell_type": "code",
   "source": "sessions_df_clean[sessions_df_clean.utm_keyword.notna()].head(20)",
   "id": "c2a037fd5003686c",
   "outputs": [],
   "execution_count": null
  },
  {
   "metadata": {},
   "cell_type": "code",
   "source": [
    "utm_keyword_values = sessions_df_clean.utm_keyword.value_counts(dropna=False).to_dict()\n",
    "utm_keyword_values"
   ],
   "id": "b40a65532618a9c5",
   "outputs": [],
   "execution_count": null
  },
  {
   "metadata": {},
   "cell_type": "code",
   "source": [
    "sessions_df_clean.utm_keyword = sessions_df_clean.utm_keyword.fillna('(not set)')\n",
    "prep_utils.missing_values_percentage(sessions_df_clean)"
   ],
   "id": "d4aedade30edc7bf",
   "outputs": [],
   "execution_count": null
  },
  {
   "metadata": {},
   "cell_type": "code",
   "source": "sessions_df_clean[sessions_df_clean.utm_adcontent.isna()].head(20)",
   "id": "9b5e945a628f3d66",
   "outputs": [],
   "execution_count": null
  },
  {
   "metadata": {},
   "cell_type": "code",
   "source": [
    "sessions_df_clean.utm_adcontent = sessions_df_clean.utm_adcontent.fillna('(not set)')\n",
    "sessions_df_clean.utm_campaign = sessions_df_clean.utm_campaign.fillna('(not set)')\n",
    "prep_utils.missing_values_percentage(sessions_df_clean)"
   ],
   "id": "6859398d435baa04",
   "outputs": [],
   "execution_count": null
  },
  {
   "metadata": {},
   "cell_type": "code",
   "source": "sessions_df_clean[sessions_df_clean.device_brand.isna()].head(20)",
   "id": "e82a8090a1ebd703",
   "outputs": [],
   "execution_count": null
  },
  {
   "metadata": {},
   "cell_type": "code",
   "source": [
    "sessions_df_clean.device_brand = sessions_df_clean.device_brand.fillna('(not set)')\n",
    "prep_utils.missing_values_percentage(sessions_df_clean)"
   ],
   "id": "922c7aed2e882ce",
   "outputs": [],
   "execution_count": null
  },
  {
   "metadata": {},
   "cell_type": "code",
   "source": "",
   "id": "5ab2355f505d546f",
   "outputs": [],
   "execution_count": null
  },
  {
   "metadata": {},
   "cell_type": "code",
   "source": "",
   "id": "6e24605f2e50e47e",
   "outputs": [],
   "execution_count": null
  }
 ],
 "metadata": {
  "kernelspec": {
   "display_name": "Python 3",
   "language": "python",
   "name": "python3"
  },
  "language_info": {
   "codemirror_mode": {
    "name": "ipython",
    "version": 2
   },
   "file_extension": ".py",
   "mimetype": "text/x-python",
   "name": "python",
   "nbconvert_exporter": "python",
   "pygments_lexer": "ipython2",
   "version": "2.7.6"
  }
 },
 "nbformat": 4,
 "nbformat_minor": 5
}
