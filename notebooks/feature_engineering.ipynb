{
 "cells": [
  {
   "cell_type": "code",
   "id": "initial_id",
   "metadata": {
    "collapsed": true,
    "ExecuteTime": {
     "end_time": "2024-06-10T18:19:07.279124Z",
     "start_time": "2024-06-10T18:19:07.272280Z"
    }
   },
   "source": [
    "# Setting auto reloading for imported modules\n",
    "%load_ext autoreload\n",
    "%autoreload 2"
   ],
   "outputs": [],
   "execution_count": 1
  },
  {
   "metadata": {
    "ExecuteTime": {
     "end_time": "2024-06-10T18:19:09.126623Z",
     "start_time": "2024-06-10T18:19:08.326983Z"
    }
   },
   "cell_type": "code",
   "source": [
    "import pandas as pd\n",
    "from auxiliary_functions import PreprocessingUtils"
   ],
   "id": "381a481f736685d4",
   "outputs": [],
   "execution_count": 2
  },
  {
   "metadata": {
    "ExecuteTime": {
     "end_time": "2024-06-10T18:19:09.626353Z",
     "start_time": "2024-06-10T18:19:09.617421Z"
    }
   },
   "cell_type": "code",
   "source": "prep_utils = PreprocessingUtils()",
   "id": "22f4b70efb2a541a",
   "outputs": [],
   "execution_count": 3
  },
  {
   "metadata": {},
   "cell_type": "markdown",
   "source": "**Feature Engineering**",
   "id": "4e715102c4727e4c"
  },
  {
   "metadata": {
    "ExecuteTime": {
     "end_time": "2024-06-10T18:19:18.753164Z",
     "start_time": "2024-06-10T18:19:17.398632Z"
    }
   },
   "cell_type": "code",
   "source": [
    "df_features = pd.read_csv('../data/clean_data/clean_sessions_with_cr.csv')\n",
    "df_features.head()"
   ],
   "id": "57fee3fd533826b",
   "outputs": [
    {
     "data": {
      "text/plain": [
       "             utm_source utm_medium          utm_campaign  \\\n",
       "0  ZpYIoDJMcFzVoPFsHGJL     banner  LEoPHuyFvzoNfnzGgfcd   \n",
       "1  MvfHsxITijuriZxsqZqt        cpm  FTjNLDyTrXaWYgZymFkV   \n",
       "2  ZpYIoDJMcFzVoPFsHGJL     banner  LEoPHuyFvzoNfnzGgfcd   \n",
       "3  kjsLglQLzykiRbcDiGcD        cpc             (not set)   \n",
       "4  kjsLglQLzykiRbcDiGcD        cpc             (not set)   \n",
       "\n",
       "          utm_adcontent           utm_keyword device_category device_os  \\\n",
       "0  vCIpmpaGBnIQhyYNkXqp  puhZPIYqKXeFPaUviSjo          mobile   Android   \n",
       "1  xhoenQgDQsgfEPYNPwKO  IGUCNvHlhfHpROGclCit          mobile   Android   \n",
       "2  vCIpmpaGBnIQhyYNkXqp  puhZPIYqKXeFPaUviSjo          mobile   Android   \n",
       "3  NOBKLgtuvqYWkXQHeYWM             (not set)          mobile   Android   \n",
       "4             (not set)             (not set)          mobile   Android   \n",
       "\n",
       "  device_brand device_screen_resolution    device_browser geo_country  \\\n",
       "0       Huawei                  360x720            Chrome      Russia   \n",
       "1      Samsung                  385x854  Samsung Internet      Russia   \n",
       "2       Huawei                  360x720            Chrome      Russia   \n",
       "3       Xiaomi                  393x786            Chrome      Russia   \n",
       "4       Xiaomi                  393x786            Chrome      Russia   \n",
       "\n",
       "      geo_city  CR  \n",
       "0     Zlatoust   0  \n",
       "1       Moscow   0  \n",
       "2  Krasnoyarsk   0  \n",
       "3       Moscow   0  \n",
       "4       Moscow   0  "
      ],
      "text/html": [
       "<div>\n",
       "<style scoped>\n",
       "    .dataframe tbody tr th:only-of-type {\n",
       "        vertical-align: middle;\n",
       "    }\n",
       "\n",
       "    .dataframe tbody tr th {\n",
       "        vertical-align: top;\n",
       "    }\n",
       "\n",
       "    .dataframe thead th {\n",
       "        text-align: right;\n",
       "    }\n",
       "</style>\n",
       "<table border=\"1\" class=\"dataframe\">\n",
       "  <thead>\n",
       "    <tr style=\"text-align: right;\">\n",
       "      <th></th>\n",
       "      <th>utm_source</th>\n",
       "      <th>utm_medium</th>\n",
       "      <th>utm_campaign</th>\n",
       "      <th>utm_adcontent</th>\n",
       "      <th>utm_keyword</th>\n",
       "      <th>device_category</th>\n",
       "      <th>device_os</th>\n",
       "      <th>device_brand</th>\n",
       "      <th>device_screen_resolution</th>\n",
       "      <th>device_browser</th>\n",
       "      <th>geo_country</th>\n",
       "      <th>geo_city</th>\n",
       "      <th>CR</th>\n",
       "    </tr>\n",
       "  </thead>\n",
       "  <tbody>\n",
       "    <tr>\n",
       "      <th>0</th>\n",
       "      <td>ZpYIoDJMcFzVoPFsHGJL</td>\n",
       "      <td>banner</td>\n",
       "      <td>LEoPHuyFvzoNfnzGgfcd</td>\n",
       "      <td>vCIpmpaGBnIQhyYNkXqp</td>\n",
       "      <td>puhZPIYqKXeFPaUviSjo</td>\n",
       "      <td>mobile</td>\n",
       "      <td>Android</td>\n",
       "      <td>Huawei</td>\n",
       "      <td>360x720</td>\n",
       "      <td>Chrome</td>\n",
       "      <td>Russia</td>\n",
       "      <td>Zlatoust</td>\n",
       "      <td>0</td>\n",
       "    </tr>\n",
       "    <tr>\n",
       "      <th>1</th>\n",
       "      <td>MvfHsxITijuriZxsqZqt</td>\n",
       "      <td>cpm</td>\n",
       "      <td>FTjNLDyTrXaWYgZymFkV</td>\n",
       "      <td>xhoenQgDQsgfEPYNPwKO</td>\n",
       "      <td>IGUCNvHlhfHpROGclCit</td>\n",
       "      <td>mobile</td>\n",
       "      <td>Android</td>\n",
       "      <td>Samsung</td>\n",
       "      <td>385x854</td>\n",
       "      <td>Samsung Internet</td>\n",
       "      <td>Russia</td>\n",
       "      <td>Moscow</td>\n",
       "      <td>0</td>\n",
       "    </tr>\n",
       "    <tr>\n",
       "      <th>2</th>\n",
       "      <td>ZpYIoDJMcFzVoPFsHGJL</td>\n",
       "      <td>banner</td>\n",
       "      <td>LEoPHuyFvzoNfnzGgfcd</td>\n",
       "      <td>vCIpmpaGBnIQhyYNkXqp</td>\n",
       "      <td>puhZPIYqKXeFPaUviSjo</td>\n",
       "      <td>mobile</td>\n",
       "      <td>Android</td>\n",
       "      <td>Huawei</td>\n",
       "      <td>360x720</td>\n",
       "      <td>Chrome</td>\n",
       "      <td>Russia</td>\n",
       "      <td>Krasnoyarsk</td>\n",
       "      <td>0</td>\n",
       "    </tr>\n",
       "    <tr>\n",
       "      <th>3</th>\n",
       "      <td>kjsLglQLzykiRbcDiGcD</td>\n",
       "      <td>cpc</td>\n",
       "      <td>(not set)</td>\n",
       "      <td>NOBKLgtuvqYWkXQHeYWM</td>\n",
       "      <td>(not set)</td>\n",
       "      <td>mobile</td>\n",
       "      <td>Android</td>\n",
       "      <td>Xiaomi</td>\n",
       "      <td>393x786</td>\n",
       "      <td>Chrome</td>\n",
       "      <td>Russia</td>\n",
       "      <td>Moscow</td>\n",
       "      <td>0</td>\n",
       "    </tr>\n",
       "    <tr>\n",
       "      <th>4</th>\n",
       "      <td>kjsLglQLzykiRbcDiGcD</td>\n",
       "      <td>cpc</td>\n",
       "      <td>(not set)</td>\n",
       "      <td>(not set)</td>\n",
       "      <td>(not set)</td>\n",
       "      <td>mobile</td>\n",
       "      <td>Android</td>\n",
       "      <td>Xiaomi</td>\n",
       "      <td>393x786</td>\n",
       "      <td>Chrome</td>\n",
       "      <td>Russia</td>\n",
       "      <td>Moscow</td>\n",
       "      <td>0</td>\n",
       "    </tr>\n",
       "  </tbody>\n",
       "</table>\n",
       "</div>"
      ]
     },
     "execution_count": 5,
     "metadata": {},
     "output_type": "execute_result"
    }
   ],
   "execution_count": 5
  },
  {
   "metadata": {
    "ExecuteTime": {
     "end_time": "2024-06-09T18:43:35.457302Z",
     "start_time": "2024-06-09T18:43:35.176689Z"
    }
   },
   "cell_type": "code",
   "source": "df_features['is_organic'] = df_features['utm_medium'].apply(lambda x: 1 if x in ('organic', 'referral', '(none)') else 0)",
   "id": "1509d26dcdcd056e",
   "outputs": [],
   "execution_count": 5
  },
  {
   "metadata": {
    "ExecuteTime": {
     "end_time": "2024-06-09T18:43:35.768710Z",
     "start_time": "2024-06-09T18:43:35.458027Z"
    }
   },
   "cell_type": "code",
   "source": [
    "social_media_sources = ['QxAxdyPLuQMEcrdZWdWb', 'MvfHsxITijuriZxsqZqt', 'ISrKoXQCxqqYvAZICvjs', 'IZEXUFLARCUMynmHNBGo', 'PlbkrSYoHuZBWfYjYnfw', 'gVRrcxiDQubJiljoTbGm']\n",
    "df_features['is_social_media_ad'] = df_features['utm_source'].apply(lambda x: 1 if x in social_media_sources else 0)"
   ],
   "id": "90929ecba5c9f663",
   "outputs": [],
   "execution_count": 6
  },
  {
   "metadata": {
    "ExecuteTime": {
     "end_time": "2024-06-09T18:43:36.288510Z",
     "start_time": "2024-06-09T18:43:36.030230Z"
    }
   },
   "cell_type": "code",
   "source": "df_features['in_app_browser'] = df_features.device_browser.apply(lambda x: 1 if x == 'safari (in-app)' or '.' in x else 0)",
   "id": "9792605c15dbe3a6",
   "outputs": [],
   "execution_count": 8
  },
  {
   "metadata": {
    "ExecuteTime": {
     "end_time": "2024-06-09T18:43:36.561790Z",
     "start_time": "2024-06-09T18:43:36.289245Z"
    }
   },
   "cell_type": "code",
   "source": [
    "top_browsers = ['chrome', 'safari', 'firefox']\n",
    "df_features['is_top_browser'] = df_features.device_browser.apply(lambda x: 1 if x in top_browsers else 0)"
   ],
   "id": "34772f81cff07f38",
   "outputs": [],
   "execution_count": 9
  },
  {
   "metadata": {
    "ExecuteTime": {
     "end_time": "2024-06-09T18:43:36.853155Z",
     "start_time": "2024-06-09T18:43:36.563168Z"
    }
   },
   "cell_type": "code",
   "source": [
    "popular_brands = ['samsung', 'apple', 'xiaomi', 'huawei']\n",
    "df_features['is_popular_brand'] = df_features.device_brand.apply(lambda x: 1 if x in popular_brands else 0)"
   ],
   "id": "4448a362c270bc31",
   "outputs": [],
   "execution_count": 10
  },
  {
   "metadata": {
    "ExecuteTime": {
     "end_time": "2024-06-09T18:43:37.539054Z",
     "start_time": "2024-06-09T18:43:36.854227Z"
    }
   },
   "cell_type": "code",
   "source": [
    "df_features['screen_width'] = df_features.device_screen_resolution.apply(lambda x: x.split('x')[0]).astype('int')\n",
    "df_features['screen_height'] = df_features.device_screen_resolution.apply(lambda x: x.split('x')[1]).astype('int')\n",
    "df_features = df_features.drop(columns=['device_screen_resolution'], axis=1)"
   ],
   "id": "835066c1d1a265a7",
   "outputs": [],
   "execution_count": 11
  },
  {
   "metadata": {
    "ExecuteTime": {
     "end_time": "2024-06-09T18:43:37.609176Z",
     "start_time": "2024-06-09T18:43:37.595819Z"
    }
   },
   "cell_type": "code",
   "source": "df_features.head()",
   "id": "c5747194aec8cfa0",
   "outputs": [
    {
     "data": {
      "text/plain": [
       "             utm_source utm_medium          utm_campaign  \\\n",
       "0  ZpYIoDJMcFzVoPFsHGJL     banner  LEoPHuyFvzoNfnzGgfcd   \n",
       "1  MvfHsxITijuriZxsqZqt        cpm  FTjNLDyTrXaWYgZymFkV   \n",
       "2  ZpYIoDJMcFzVoPFsHGJL     banner  LEoPHuyFvzoNfnzGgfcd   \n",
       "3  kjsLglQLzykiRbcDiGcD        cpc             (not set)   \n",
       "4  kjsLglQLzykiRbcDiGcD        cpc             (not set)   \n",
       "\n",
       "          utm_adcontent           utm_keyword device_category device_os  \\\n",
       "0  vCIpmpaGBnIQhyYNkXqp  puhZPIYqKXeFPaUviSjo          mobile   Android   \n",
       "1  xhoenQgDQsgfEPYNPwKO  IGUCNvHlhfHpROGclCit          mobile   Android   \n",
       "2  vCIpmpaGBnIQhyYNkXqp  puhZPIYqKXeFPaUviSjo          mobile   Android   \n",
       "3  NOBKLgtuvqYWkXQHeYWM             (not set)          mobile   Android   \n",
       "4             (not set)             (not set)          mobile   Android   \n",
       "\n",
       "  device_brand    device_browser geo_country     geo_city  CR  is_organic  \\\n",
       "0       Huawei            Chrome      Russia     Zlatoust   0           0   \n",
       "1      Samsung  Samsung Internet      Russia       Moscow   0           0   \n",
       "2       Huawei            Chrome      Russia  Krasnoyarsk   0           0   \n",
       "3       Xiaomi            Chrome      Russia       Moscow   0           0   \n",
       "4       Xiaomi            Chrome      Russia       Moscow   0           0   \n",
       "\n",
       "   is_social_media_ad  in_app_browser  is_top_browser  is_popular_brand  \\\n",
       "0                   0               0               0                 0   \n",
       "1                   1               0               0                 0   \n",
       "2                   0               0               0                 0   \n",
       "3                   0               0               0                 0   \n",
       "4                   0               0               0                 0   \n",
       "\n",
       "   screen_width  screen_height  \n",
       "0           360            720  \n",
       "1           385            854  \n",
       "2           360            720  \n",
       "3           393            786  \n",
       "4           393            786  "
      ],
      "text/html": [
       "<div>\n",
       "<style scoped>\n",
       "    .dataframe tbody tr th:only-of-type {\n",
       "        vertical-align: middle;\n",
       "    }\n",
       "\n",
       "    .dataframe tbody tr th {\n",
       "        vertical-align: top;\n",
       "    }\n",
       "\n",
       "    .dataframe thead th {\n",
       "        text-align: right;\n",
       "    }\n",
       "</style>\n",
       "<table border=\"1\" class=\"dataframe\">\n",
       "  <thead>\n",
       "    <tr style=\"text-align: right;\">\n",
       "      <th></th>\n",
       "      <th>utm_source</th>\n",
       "      <th>utm_medium</th>\n",
       "      <th>utm_campaign</th>\n",
       "      <th>utm_adcontent</th>\n",
       "      <th>utm_keyword</th>\n",
       "      <th>device_category</th>\n",
       "      <th>device_os</th>\n",
       "      <th>device_brand</th>\n",
       "      <th>device_browser</th>\n",
       "      <th>geo_country</th>\n",
       "      <th>geo_city</th>\n",
       "      <th>CR</th>\n",
       "      <th>is_organic</th>\n",
       "      <th>is_social_media_ad</th>\n",
       "      <th>in_app_browser</th>\n",
       "      <th>is_top_browser</th>\n",
       "      <th>is_popular_brand</th>\n",
       "      <th>screen_width</th>\n",
       "      <th>screen_height</th>\n",
       "    </tr>\n",
       "  </thead>\n",
       "  <tbody>\n",
       "    <tr>\n",
       "      <th>0</th>\n",
       "      <td>ZpYIoDJMcFzVoPFsHGJL</td>\n",
       "      <td>banner</td>\n",
       "      <td>LEoPHuyFvzoNfnzGgfcd</td>\n",
       "      <td>vCIpmpaGBnIQhyYNkXqp</td>\n",
       "      <td>puhZPIYqKXeFPaUviSjo</td>\n",
       "      <td>mobile</td>\n",
       "      <td>Android</td>\n",
       "      <td>Huawei</td>\n",
       "      <td>Chrome</td>\n",
       "      <td>Russia</td>\n",
       "      <td>Zlatoust</td>\n",
       "      <td>0</td>\n",
       "      <td>0</td>\n",
       "      <td>0</td>\n",
       "      <td>0</td>\n",
       "      <td>0</td>\n",
       "      <td>0</td>\n",
       "      <td>360</td>\n",
       "      <td>720</td>\n",
       "    </tr>\n",
       "    <tr>\n",
       "      <th>1</th>\n",
       "      <td>MvfHsxITijuriZxsqZqt</td>\n",
       "      <td>cpm</td>\n",
       "      <td>FTjNLDyTrXaWYgZymFkV</td>\n",
       "      <td>xhoenQgDQsgfEPYNPwKO</td>\n",
       "      <td>IGUCNvHlhfHpROGclCit</td>\n",
       "      <td>mobile</td>\n",
       "      <td>Android</td>\n",
       "      <td>Samsung</td>\n",
       "      <td>Samsung Internet</td>\n",
       "      <td>Russia</td>\n",
       "      <td>Moscow</td>\n",
       "      <td>0</td>\n",
       "      <td>0</td>\n",
       "      <td>1</td>\n",
       "      <td>0</td>\n",
       "      <td>0</td>\n",
       "      <td>0</td>\n",
       "      <td>385</td>\n",
       "      <td>854</td>\n",
       "    </tr>\n",
       "    <tr>\n",
       "      <th>2</th>\n",
       "      <td>ZpYIoDJMcFzVoPFsHGJL</td>\n",
       "      <td>banner</td>\n",
       "      <td>LEoPHuyFvzoNfnzGgfcd</td>\n",
       "      <td>vCIpmpaGBnIQhyYNkXqp</td>\n",
       "      <td>puhZPIYqKXeFPaUviSjo</td>\n",
       "      <td>mobile</td>\n",
       "      <td>Android</td>\n",
       "      <td>Huawei</td>\n",
       "      <td>Chrome</td>\n",
       "      <td>Russia</td>\n",
       "      <td>Krasnoyarsk</td>\n",
       "      <td>0</td>\n",
       "      <td>0</td>\n",
       "      <td>0</td>\n",
       "      <td>0</td>\n",
       "      <td>0</td>\n",
       "      <td>0</td>\n",
       "      <td>360</td>\n",
       "      <td>720</td>\n",
       "    </tr>\n",
       "    <tr>\n",
       "      <th>3</th>\n",
       "      <td>kjsLglQLzykiRbcDiGcD</td>\n",
       "      <td>cpc</td>\n",
       "      <td>(not set)</td>\n",
       "      <td>NOBKLgtuvqYWkXQHeYWM</td>\n",
       "      <td>(not set)</td>\n",
       "      <td>mobile</td>\n",
       "      <td>Android</td>\n",
       "      <td>Xiaomi</td>\n",
       "      <td>Chrome</td>\n",
       "      <td>Russia</td>\n",
       "      <td>Moscow</td>\n",
       "      <td>0</td>\n",
       "      <td>0</td>\n",
       "      <td>0</td>\n",
       "      <td>0</td>\n",
       "      <td>0</td>\n",
       "      <td>0</td>\n",
       "      <td>393</td>\n",
       "      <td>786</td>\n",
       "    </tr>\n",
       "    <tr>\n",
       "      <th>4</th>\n",
       "      <td>kjsLglQLzykiRbcDiGcD</td>\n",
       "      <td>cpc</td>\n",
       "      <td>(not set)</td>\n",
       "      <td>(not set)</td>\n",
       "      <td>(not set)</td>\n",
       "      <td>mobile</td>\n",
       "      <td>Android</td>\n",
       "      <td>Xiaomi</td>\n",
       "      <td>Chrome</td>\n",
       "      <td>Russia</td>\n",
       "      <td>Moscow</td>\n",
       "      <td>0</td>\n",
       "      <td>0</td>\n",
       "      <td>0</td>\n",
       "      <td>0</td>\n",
       "      <td>0</td>\n",
       "      <td>0</td>\n",
       "      <td>393</td>\n",
       "      <td>786</td>\n",
       "    </tr>\n",
       "  </tbody>\n",
       "</table>\n",
       "</div>"
      ]
     },
     "execution_count": 12,
     "metadata": {},
     "output_type": "execute_result"
    }
   ],
   "execution_count": 12
  },
  {
   "metadata": {},
   "cell_type": "markdown",
   "source": "Categorical data transformation",
   "id": "f638c436d02aa60"
  },
  {
   "metadata": {
    "ExecuteTime": {
     "end_time": "2024-06-09T18:43:44.937006Z",
     "start_time": "2024-06-09T18:43:44.302252Z"
    }
   },
   "cell_type": "code",
   "source": [
    "categorical_features = df_features.select_dtypes(include=['object']).columns\n",
    "for feature in categorical_features:\n",
    "    print(f'Column {feature} have {df_features[feature].nunique()} unique values')"
   ],
   "id": "468ef0ca9821cde6",
   "outputs": [
    {
     "name": "stdout",
     "output_type": "stream",
     "text": [
      "Column utm_source have 281 unique values\n",
      "Column utm_medium have 55 unique values\n",
      "Column utm_campaign have 407 unique values\n",
      "Column utm_adcontent have 281 unique values\n",
      "Column utm_keyword have 1193 unique values\n",
      "Column device_category have 3 unique values\n",
      "Column device_os have 13 unique values\n",
      "Column device_brand have 200 unique values\n",
      "Column device_browser have 55 unique values\n",
      "Column geo_country have 159 unique values\n",
      "Column geo_city have 2389 unique values\n"
     ]
    }
   ],
   "execution_count": 13
  },
  {
   "metadata": {},
   "cell_type": "markdown",
   "source": "Using OneHotEncoder for all of these values will cause high dimensionality of the dataset and will cause poor performance, hence for some features with high cardinality target encoding will be used.",
   "id": "b1f375d9a08e1e42"
  },
  {
   "metadata": {
    "ExecuteTime": {
     "end_time": "2024-06-09T18:43:46.415895Z",
     "start_time": "2024-06-09T18:43:45.861686Z"
    }
   },
   "cell_type": "code",
   "source": [
    "high_cardinality_features = []\n",
    "low_cardinality_features = []\n",
    "\n",
    "for feature in categorical_features:\n",
    "    if df_features[feature].nunique() > 400:\n",
    "        high_cardinality_features.append(feature)\n",
    "    else:\n",
    "        low_cardinality_features.append(feature)\n",
    "\n",
    "print(f'High cardinality features are: {high_cardinality_features}')\n",
    "print(f'Low/Medium cardinality features are: {low_cardinality_features}')"
   ],
   "id": "4737e7ee9de9bbc1",
   "outputs": [
    {
     "name": "stdout",
     "output_type": "stream",
     "text": [
      "High cardinality features are: ['utm_campaign', 'utm_keyword', 'geo_city']\n",
      "Low/Medium cardinality features are: ['utm_source', 'utm_medium', 'utm_adcontent', 'device_category', 'device_os', 'device_brand', 'device_browser', 'geo_country']\n"
     ]
    }
   ],
   "execution_count": 14
  },
  {
   "metadata": {},
   "cell_type": "code",
   "source": "df_features = prep_utils.categorical_feature_ohe(df=df_features, column='utm_source')",
   "id": "ec13e278fa4086fa",
   "outputs": [],
   "execution_count": null
  },
  {
   "metadata": {},
   "cell_type": "code",
   "source": "df_features = prep_utils.categorical_feature_ohe(df=df_features, column='utm_medium')",
   "id": "d54195bd3ce40101",
   "outputs": [],
   "execution_count": null
  },
  {
   "metadata": {},
   "cell_type": "code",
   "source": "df_features = prep_utils.categorical_feature_ohe(df=df_features, column='utm_adcontent')",
   "id": "2c2bb5c4a00711ec",
   "outputs": [],
   "execution_count": null
  },
  {
   "metadata": {},
   "cell_type": "code",
   "source": "df_features = prep_utils.categorical_feature_ohe(df=df_features, column='device_category')",
   "id": "a4858389c2a8c229",
   "outputs": [],
   "execution_count": null
  },
  {
   "metadata": {},
   "cell_type": "code",
   "source": "df_features = prep_utils.categorical_feature_ohe(df=df_features, column='device_os')",
   "id": "57f7a40488a4aee8",
   "outputs": [],
   "execution_count": null
  },
  {
   "metadata": {},
   "cell_type": "code",
   "source": "df_features = prep_utils.categorical_feature_ohe(df=df_features, column='device_brand')",
   "id": "bd7e1b8dd31dc6f9",
   "outputs": [],
   "execution_count": null
  },
  {
   "metadata": {},
   "cell_type": "code",
   "source": "df_features = prep_utils.categorical_feature_ohe(df=df_features, column='device_browser')",
   "id": "5d68bce2032db2f7",
   "outputs": [],
   "execution_count": null
  },
  {
   "metadata": {},
   "cell_type": "code",
   "source": "df_features = prep_utils.categorical_feature_ohe(df=df_features, column='geo_country')",
   "id": "4ab6f9f3971bb2a",
   "outputs": [],
   "execution_count": null
  },
  {
   "metadata": {},
   "cell_type": "code",
   "source": "df_features.head()",
   "id": "f9ff10b1f9e7dedf",
   "outputs": [],
   "execution_count": null
  },
  {
   "metadata": {},
   "cell_type": "code",
   "source": [
    "for feature in high_cardinality_features:\n",
    "    df_features = prep_utils.categorical_feature_te(df=df_features, column=feature)"
   ],
   "id": "18729197f6b3189d",
   "outputs": [],
   "execution_count": null
  },
  {
   "metadata": {},
   "cell_type": "code",
   "source": "df_features.head()",
   "id": "1d475227202c260e",
   "outputs": [],
   "execution_count": null
  },
  {
   "metadata": {},
   "cell_type": "markdown",
   "source": "Numerical data transformation",
   "id": "1215a8355a344ebf"
  },
  {
   "metadata": {},
   "cell_type": "code",
   "source": [
    "numeric_features = ['screen_width', 'screen_height']\n",
    "\n",
    "for feature in numeric_features:\n",
    "    prep_utils.numerical_feature_std(df=df_features, column=feature)"
   ],
   "id": "e36c992d61d3524a",
   "outputs": [],
   "execution_count": null
  },
  {
   "metadata": {},
   "cell_type": "code",
   "source": "df_features.head()",
   "id": "68924f27f43716e5",
   "outputs": [],
   "execution_count": null
  },
  {
   "metadata": {},
   "cell_type": "code",
   "source": "df_features = df_features.drop(columns=numeric_features, axis=1)",
   "id": "d9c7d18c2abc3101",
   "outputs": [],
   "execution_count": null
  },
  {
   "metadata": {},
   "cell_type": "code",
   "source": "# df_features.to_csv('data/clean_data/df_sessions_w_feats.csv', index=False)",
   "id": "24586b2c784daf71",
   "outputs": [],
   "execution_count": null
  }
 ],
 "metadata": {
  "kernelspec": {
   "display_name": "Python 3",
   "language": "python",
   "name": "python3"
  },
  "language_info": {
   "codemirror_mode": {
    "name": "ipython",
    "version": 2
   },
   "file_extension": ".py",
   "mimetype": "text/x-python",
   "name": "python",
   "nbconvert_exporter": "python",
   "pygments_lexer": "ipython2",
   "version": "2.7.6"
  }
 },
 "nbformat": 4,
 "nbformat_minor": 5
}
