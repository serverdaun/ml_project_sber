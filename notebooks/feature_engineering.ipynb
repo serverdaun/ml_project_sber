{
 "cells": [
  {
   "cell_type": "code",
   "id": "initial_id",
   "metadata": {
    "collapsed": true
   },
   "source": [
    "# Setting auto reloading for imported modules\n",
    "%load_ext autoreload\n",
    "%autoreload 2"
   ],
   "outputs": [],
   "execution_count": null
  },
  {
   "metadata": {},
   "cell_type": "code",
   "source": [
    "import pandas as pd\n",
    "from auxiliary_functions import PreprocessingUtils"
   ],
   "id": "381a481f736685d4",
   "outputs": [],
   "execution_count": null
  },
  {
   "metadata": {},
   "cell_type": "code",
   "source": "prep_utils = PreprocessingUtils()",
   "id": "22f4b70efb2a541a",
   "outputs": [],
   "execution_count": null
  },
  {
   "metadata": {},
   "cell_type": "markdown",
   "source": "**Feature Engineering**",
   "id": "4e715102c4727e4c"
  },
  {
   "metadata": {},
   "cell_type": "code",
   "source": [
    "df_features = pd.read_csv('../data/clean_data/clean_sessions_with_cr.csv')\n",
    "df_features.head()"
   ],
   "id": "57fee3fd533826b",
   "outputs": [],
   "execution_count": null
  },
  {
   "metadata": {},
   "cell_type": "code",
   "source": "df_features['is_organic'] = df_features['utm_medium'].apply(lambda x: 1 if x in ('organic', 'referral', '(none)') else 0)",
   "id": "1509d26dcdcd056e",
   "outputs": [],
   "execution_count": null
  },
  {
   "metadata": {},
   "cell_type": "code",
   "source": [
    "social_media_sources = ['QxAxdyPLuQMEcrdZWdWb', 'MvfHsxITijuriZxsqZqt', 'ISrKoXQCxqqYvAZICvjs', 'IZEXUFLARCUMynmHNBGo', 'PlbkrSYoHuZBWfYjYnfw', 'gVRrcxiDQubJiljoTbGm']\n",
    "df_features['is_social_media_ad'] = df_features['utm_source'].apply(lambda x: 1 if x in social_media_sources else 0)"
   ],
   "id": "90929ecba5c9f663",
   "outputs": [],
   "execution_count": null
  },
  {
   "metadata": {},
   "cell_type": "code",
   "source": "df_features['in_app_browser'] = df_features.device_browser.apply(lambda x: 1 if x == 'safari (in-app)' or '.' in x else 0)",
   "id": "9792605c15dbe3a6",
   "outputs": [],
   "execution_count": null
  },
  {
   "metadata": {},
   "cell_type": "code",
   "source": [
    "top_browsers = ['chrome', 'safari', 'firefox']\n",
    "df_features['is_top_browser'] = df_features.device_browser.apply(lambda x: 1 if x in top_browsers else 0)"
   ],
   "id": "34772f81cff07f38",
   "outputs": [],
   "execution_count": null
  },
  {
   "metadata": {},
   "cell_type": "code",
   "source": [
    "popular_brands = ['samsung', 'apple', 'xiaomi', 'huawei']\n",
    "df_features['is_popular_brand'] = df_features.device_brand.apply(lambda x: 1 if x in popular_brands else 0)"
   ],
   "id": "4448a362c270bc31",
   "outputs": [],
   "execution_count": null
  },
  {
   "metadata": {},
   "cell_type": "code",
   "source": [
    "df_features['screen_width'] = df_features.device_screen_resolution.apply(lambda x: x.split('x')[0]).astype('int')\n",
    "df_features['screen_height'] = df_features.device_screen_resolution.apply(lambda x: x.split('x')[1]).astype('int')\n",
    "df_features = df_features.drop(columns=['device_screen_resolution'], axis=1)"
   ],
   "id": "835066c1d1a265a7",
   "outputs": [],
   "execution_count": null
  },
  {
   "metadata": {},
   "cell_type": "code",
   "source": "df_features.head()",
   "id": "c5747194aec8cfa0",
   "outputs": [],
   "execution_count": null
  },
  {
   "metadata": {},
   "cell_type": "markdown",
   "source": "Categorical data transformation",
   "id": "f638c436d02aa60"
  },
  {
   "metadata": {},
   "cell_type": "code",
   "source": [
    "categorical_features = df_features.select_dtypes(include=['object']).columns\n",
    "for feature in categorical_features:\n",
    "    print(f'Column {feature} have {df_features[feature].nunique()} unique values')"
   ],
   "id": "468ef0ca9821cde6",
   "outputs": [],
   "execution_count": null
  },
  {
   "metadata": {},
   "cell_type": "markdown",
   "source": "Using OneHotEncoder for all of these values will cause high dimensionality of the dataset and will cause poor performance, hence for some features with high cardinality target encoding will be used.",
   "id": "b1f375d9a08e1e42"
  },
  {
   "metadata": {},
   "cell_type": "code",
   "source": [
    "high_cardinality_features = []\n",
    "low_cardinality_features = []\n",
    "\n",
    "for feature in categorical_features:\n",
    "    if df_features[feature].nunique() > 400:\n",
    "        high_cardinality_features.append(feature)\n",
    "    else:\n",
    "        low_cardinality_features.append(feature)\n",
    "\n",
    "print(f'High cardinality features are: {high_cardinality_features}')\n",
    "print(f'Low/Medium cardinality features are: {low_cardinality_features}')"
   ],
   "id": "4737e7ee9de9bbc1",
   "outputs": [],
   "execution_count": null
  },
  {
   "metadata": {},
   "cell_type": "code",
   "source": "df_features = prep_utils.categorical_feature_ohe(df=df_features, column='utm_source')",
   "id": "ec13e278fa4086fa",
   "outputs": [],
   "execution_count": null
  },
  {
   "metadata": {},
   "cell_type": "code",
   "source": "df_features = prep_utils.categorical_feature_ohe(df=df_features, column='utm_medium')",
   "id": "d54195bd3ce40101",
   "outputs": [],
   "execution_count": null
  },
  {
   "metadata": {},
   "cell_type": "code",
   "source": "df_features = prep_utils.categorical_feature_ohe(df=df_features, column='utm_adcontent')",
   "id": "2c2bb5c4a00711ec",
   "outputs": [],
   "execution_count": null
  },
  {
   "metadata": {},
   "cell_type": "code",
   "source": "df_features = prep_utils.categorical_feature_ohe(df=df_features, column='device_category')",
   "id": "a4858389c2a8c229",
   "outputs": [],
   "execution_count": null
  },
  {
   "metadata": {},
   "cell_type": "code",
   "source": "df_features = prep_utils.categorical_feature_ohe(df=df_features, column='device_os')",
   "id": "57f7a40488a4aee8",
   "outputs": [],
   "execution_count": null
  },
  {
   "metadata": {},
   "cell_type": "code",
   "source": "df_features = prep_utils.categorical_feature_ohe(df=df_features, column='device_brand')",
   "id": "bd7e1b8dd31dc6f9",
   "outputs": [],
   "execution_count": null
  },
  {
   "metadata": {},
   "cell_type": "code",
   "source": "df_features = prep_utils.categorical_feature_ohe(df=df_features, column='device_browser')",
   "id": "5d68bce2032db2f7",
   "outputs": [],
   "execution_count": null
  },
  {
   "metadata": {},
   "cell_type": "code",
   "source": "df_features = prep_utils.categorical_feature_ohe(df=df_features, column='geo_country')",
   "id": "4ab6f9f3971bb2a",
   "outputs": [],
   "execution_count": null
  },
  {
   "metadata": {},
   "cell_type": "code",
   "source": "df_features.head()",
   "id": "f9ff10b1f9e7dedf",
   "outputs": [],
   "execution_count": null
  },
  {
   "metadata": {},
   "cell_type": "code",
   "source": [
    "for feature in high_cardinality_features:\n",
    "    df_features = prep_utils.categorical_feature_te(df=df_features, column=feature)"
   ],
   "id": "18729197f6b3189d",
   "outputs": [],
   "execution_count": null
  },
  {
   "metadata": {},
   "cell_type": "code",
   "source": "df_features.head()",
   "id": "1d475227202c260e",
   "outputs": [],
   "execution_count": null
  },
  {
   "metadata": {},
   "cell_type": "markdown",
   "source": "Numerical data transformation",
   "id": "1215a8355a344ebf"
  },
  {
   "metadata": {},
   "cell_type": "code",
   "source": [
    "numeric_features = ['screen_width', 'screen_height']\n",
    "\n",
    "for feature in numeric_features:\n",
    "    prep_utils.numerical_feature_std(df=df_features, column=feature)"
   ],
   "id": "e36c992d61d3524a",
   "outputs": [],
   "execution_count": null
  },
  {
   "metadata": {},
   "cell_type": "code",
   "source": "df_features.head()",
   "id": "68924f27f43716e5",
   "outputs": [],
   "execution_count": null
  },
  {
   "metadata": {},
   "cell_type": "code",
   "source": "df_features = df_features.drop(columns=numeric_features, axis=1)",
   "id": "d9c7d18c2abc3101",
   "outputs": [],
   "execution_count": null
  },
  {
   "metadata": {},
   "cell_type": "code",
   "source": "df_features.to_csv('data/clean_data/df_sessions_w_feats.csv', index=False)",
   "id": "24586b2c784daf71",
   "outputs": [],
   "execution_count": null
  }
 ],
 "metadata": {
  "kernelspec": {
   "display_name": "Python 3",
   "language": "python",
   "name": "python3"
  },
  "language_info": {
   "codemirror_mode": {
    "name": "ipython",
    "version": 2
   },
   "file_extension": ".py",
   "mimetype": "text/x-python",
   "name": "python",
   "nbconvert_exporter": "python",
   "pygments_lexer": "ipython2",
   "version": "2.7.6"
  }
 },
 "nbformat": 4,
 "nbformat_minor": 5
}
