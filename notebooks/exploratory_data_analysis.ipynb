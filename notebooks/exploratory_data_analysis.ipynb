{
 "cells": [
  {
   "cell_type": "code",
   "id": "initial_id",
   "metadata": {
    "collapsed": true
   },
   "source": [
    "# Setting auto reloading for imported modules\n",
    "%load_ext autoreload\n",
    "%autoreload 2"
   ],
   "outputs": [],
   "execution_count": null
  },
  {
   "metadata": {},
   "cell_type": "code",
   "source": [
    "import pandas as pd\n",
    "import matplotlib.pyplot as plt\n",
    "import seaborn as sns\n",
    "from matplotlib.ticker import FormatStrFormatter\n",
    "from auxiliary_functions import Utils"
   ],
   "id": "236017eb7f224d22",
   "outputs": [],
   "execution_count": null
  },
  {
   "metadata": {},
   "cell_type": "code",
   "source": "prep_utils = Utils()",
   "id": "51f0131486df3523",
   "outputs": [],
   "execution_count": null
  },
  {
   "metadata": {},
   "cell_type": "markdown",
   "source": "**Exploratory Data Analysis**",
   "id": "ff6a11fb393c70e8"
  },
  {
   "metadata": {},
   "cell_type": "code",
   "source": [
    "df = pd.read_csv('../data/clean_data/clean_sessions_with_cr.csv')\n",
    "df.info()"
   ],
   "id": "bc23a9da135ddd4",
   "outputs": [],
   "execution_count": null
  },
  {
   "metadata": {},
   "cell_type": "markdown",
   "source": "Univariate Analysis of th Target Feature (CR)",
   "id": "b47a672ad95abddd"
  },
  {
   "metadata": {},
   "cell_type": "code",
   "source": [
    "value_counts = df['CR'].value_counts().sort_index()\n",
    "\n",
    "plt.figure(figsize=(8, 4))\n",
    "sns.barplot(x=value_counts.index, y=value_counts.values)\n",
    "\n",
    "plt.title('Distribution of Conversion Rate')\n",
    "plt.xlabel('Conversion Rate')\n",
    "plt.ylabel('Count')\n",
    "\n",
    "plt.gca().yaxis.set_major_formatter(FormatStrFormatter('%.0f'))\n",
    "plt.show()"
   ],
   "id": "78a7ba3847cf5fad",
   "outputs": [],
   "execution_count": null
  },
  {
   "metadata": {},
   "cell_type": "markdown",
   "source": "Univariate Analysis of Other Features",
   "id": "602e7399e3d08f90"
  },
  {
   "metadata": {},
   "cell_type": "code",
   "source": [
    "categorical_features = df.select_dtypes(include=['object']).columns\n",
    "\n",
    "for feature in categorical_features:\n",
    "    plt.figure(figsize=(13, 4))\n",
    "    \n",
    "    value_counts = df[feature].value_counts()\n",
    "    if len(value_counts) > 50:\n",
    "        value_counts = value_counts[:50]\n",
    "        \n",
    "    sns.countplot(x=df[feature], order=value_counts.index)\n",
    "    \n",
    "    plt.title(f'Distribution of {feature}')\n",
    "    plt.xticks(rotation=90)\n",
    "    plt.gca().yaxis.set_major_formatter(FormatStrFormatter('%.0f'))\n",
    "    plt.show()"
   ],
   "id": "588967730e4deff6",
   "outputs": [],
   "execution_count": null
  },
  {
   "metadata": {},
   "cell_type": "markdown",
   "source": "Bivariate Analysis Between Features and CR",
   "id": "f24cb71f220cd1fa"
  },
  {
   "metadata": {},
   "cell_type": "code",
   "source": [
    "for feature in categorical_features:\n",
    "    plt.figure(figsize=(30, 4))\n",
    "    sns.boxplot(x=feature, y='CR', data=df)\n",
    "    plt.title(f'{feature} vs CR')\n",
    "    plt.xticks(rotation=90)\n",
    "    plt.show()"
   ],
   "id": "3144fa74dda46f66",
   "outputs": [],
   "execution_count": null
  },
  {
   "metadata": {},
   "cell_type": "code",
   "source": "",
   "id": "9888f380dbcecc44",
   "outputs": [],
   "execution_count": null
  }
 ],
 "metadata": {
  "kernelspec": {
   "display_name": "Python 3",
   "language": "python",
   "name": "python3"
  },
  "language_info": {
   "codemirror_mode": {
    "name": "ipython",
    "version": 2
   },
   "file_extension": ".py",
   "mimetype": "text/x-python",
   "name": "python",
   "nbconvert_exporter": "python",
   "pygments_lexer": "ipython2",
   "version": "2.7.6"
  }
 },
 "nbformat": 4,
 "nbformat_minor": 5
}
