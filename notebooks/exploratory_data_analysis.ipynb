{
 "cells": [
  {
   "cell_type": "code",
   "id": "initial_id",
   "metadata": {
    "collapsed": true,
    "ExecuteTime": {
     "end_time": "2024-06-03T20:54:01.045293Z",
     "start_time": "2024-06-03T20:54:01.033513Z"
    }
   },
   "source": [
    "# Setting auto reloading for imported modules\n",
    "%load_ext autoreload\n",
    "%autoreload 2"
   ],
   "execution_count": 1,
   "outputs": []
  },
  {
   "metadata": {
    "ExecuteTime": {
     "end_time": "2024-06-03T20:54:01.159156Z",
     "start_time": "2024-06-03T20:54:01.045844Z"
    }
   },
   "cell_type": "code",
   "source": [
    "import pandas as pd\n",
    "import matplotlib.pyplot as plt\n",
    "import seaborn as sns\n",
    "from matplotlib.ticker import FormatStrFormatter\n",
    "from auxiliary_functions import PreprocessingUtils"
   ],
   "id": "236017eb7f224d22",
   "execution_count": 2,
   "outputs": []
  },
  {
   "metadata": {
    "ExecuteTime": {
     "end_time": "2024-06-03T20:54:01.169051Z",
     "start_time": "2024-06-03T20:54:01.159801Z"
    }
   },
   "cell_type": "code",
   "source": "prep_utils = PreprocessingUtils()",
   "id": "51f0131486df3523",
   "execution_count": 3,
   "outputs": []
  },
  {
   "metadata": {},
   "cell_type": "markdown",
   "source": "**Exploratory Data Analysis**",
   "id": "ff6a11fb393c70e8"
  },
  {
   "metadata": {
    "ExecuteTime": {
     "end_time": "2024-06-03T20:54:02.513893Z",
     "start_time": "2024-06-03T20:54:01.169574Z"
    }
   },
   "cell_type": "code",
   "source": [
    "df = pd.read_csv('data/clean_data/clean_sessions_with_cr.csv')\n",
    "df.info()"
   ],
   "id": "bc23a9da135ddd4",
   "execution_count": 4,
   "outputs": []
  },
  {
   "metadata": {},
   "cell_type": "markdown",
   "source": "Univariate Analysis of th Target Feature (CR)",
   "id": "b47a672ad95abddd"
  },
  {
   "metadata": {
    "ExecuteTime": {
     "end_time": "2024-06-03T20:54:02.628305Z",
     "start_time": "2024-06-03T20:54:02.514693Z"
    }
   },
   "cell_type": "code",
   "source": [
    "value_counts = df['CR'].value_counts().sort_index()\n",
    "\n",
    "plt.figure(figsize=(8, 4))\n",
    "sns.barplot(x=value_counts.index, y=value_counts.values)\n",
    "\n",
    "plt.title('Distribution of Conversion Rate')\n",
    "plt.xlabel('Conversion Rate')\n",
    "plt.ylabel('Count')\n",
    "\n",
    "plt.gca().yaxis.set_major_formatter(FormatStrFormatter('%.0f'))\n",
    "plt.show()"
   ],
   "id": "78a7ba3847cf5fad",
   "execution_count": 5,
   "outputs": []
  },
  {
   "metadata": {},
   "cell_type": "markdown",
   "source": "Univariate Analysis of Other Features",
   "id": "602e7399e3d08f90"
  },
  {
   "metadata": {
    "ExecuteTime": {
     "end_time": "2024-06-03T20:54:18.169597Z",
     "start_time": "2024-06-03T20:54:02.631076Z"
    }
   },
   "cell_type": "code",
   "source": [
    "categorical_features = df.select_dtypes(include=['object']).columns\n",
    "\n",
    "for feature in categorical_features:\n",
    "    plt.figure(figsize=(13, 4))\n",
    "    \n",
    "    value_counts = df[feature].value_counts()\n",
    "    if len(value_counts) > 50:\n",
    "        value_counts = value_counts[:50]\n",
    "        \n",
    "    sns.countplot(x=df[feature], order=value_counts.index)\n",
    "    \n",
    "    plt.title(f'Distribution of {feature}')\n",
    "    plt.xticks(rotation=90)\n",
    "    plt.gca().yaxis.set_major_formatter(FormatStrFormatter('%.0f'))\n",
    "    plt.show()"
   ],
   "id": "588967730e4deff6",
   "execution_count": 6,
   "outputs": []
  },
  {
   "metadata": {},
   "cell_type": "markdown",
   "source": "Bivariate Analysis Between Features and CR",
   "id": "f24cb71f220cd1fa"
  },
  {
   "metadata": {
    "ExecuteTime": {
     "end_time": "2024-06-03T20:55:23.103997Z",
     "start_time": "2024-06-03T20:54:18.170257Z"
    }
   },
   "cell_type": "code",
   "source": [
    "for feature in categorical_features:\n",
    "    plt.figure(figsize=(30, 4))\n",
    "    sns.boxplot(x=feature, y='CR', data=df)\n",
    "    plt.title(f'{feature} vs CR')\n",
    "    plt.xticks(rotation=90)\n",
    "    plt.show()"
   ],
   "id": "3144fa74dda46f66",
   "execution_count": 7,
   "outputs": []
  },
  {
   "metadata": {
    "ExecuteTime": {
     "end_time": "2024-06-03T20:55:23.106033Z",
     "start_time": "2024-06-03T20:55:23.104639Z"
    }
   },
   "cell_type": "code",
   "source": "",
   "id": "9888f380dbcecc44",
   "execution_count": 7,
   "outputs": []
  }
 ],
 "metadata": {
  "kernelspec": {
   "display_name": "Python 3",
   "language": "python",
   "name": "python3"
  },
  "language_info": {
   "codemirror_mode": {
    "name": "ipython",
    "version": 2
   },
   "file_extension": ".py",
   "mimetype": "text/x-python",
   "name": "python",
   "nbconvert_exporter": "python",
   "pygments_lexer": "ipython2",
   "version": "2.7.6"
  }
 },
 "nbformat": 4,
 "nbformat_minor": 5
}
