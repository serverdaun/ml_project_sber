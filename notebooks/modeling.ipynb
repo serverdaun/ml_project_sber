{
 "cells": [
  {
   "cell_type": "code",
   "id": "49da794a4ef69e18",
   "metadata": {},
   "source": [
    "# Setting auto reloading for imported modules\n",
    "%load_ext autoreload\n",
    "%autoreload 2"
   ],
   "outputs": [],
   "execution_count": null
  },
  {
   "cell_type": "code",
   "id": "initial_id",
   "metadata": {},
   "source": [
    "import numpy as np\n",
    "import pandas as pd\n",
    "from sklearn.model_selection import train_test_split,\n",
    "from sklearn.ensemble import GradientBoostingClassifier\n",
    "from auxiliary_functions import Utils"
   ],
   "outputs": [],
   "execution_count": null
  },
  {
   "cell_type": "code",
   "id": "37a7e3ed9230c840",
   "metadata": {},
   "source": "utils = Utils()",
   "outputs": [],
   "execution_count": null
  },
  {
   "cell_type": "code",
   "id": "b11ebd0483dca971",
   "metadata": {},
   "source": [
    "df = pd.read_csv('../data/clean_data/df_sessions_w_feats.csv')\n",
    "df.head()"
   ],
   "outputs": [],
   "execution_count": null
  },
  {
   "cell_type": "code",
   "id": "a5e54aacdc202ad9",
   "metadata": {},
   "source": [
    "x = df.drop(['CR'], axis=1)\n",
    "y = df['CR']\n",
    "\n",
    "x_train, x_test, y_train, y_test = train_test_split(x, y, test_size=0.3, random_state=42)"
   ],
   "outputs": [],
   "execution_count": null
  },
  {
   "cell_type": "markdown",
   "id": "f18b3e3d7c3e684c",
   "metadata": {},
   "source": [
    "Initial model training without any fine-tuning"
   ]
  },
  {
   "cell_type": "code",
   "id": "7e3217f8dfe30b06",
   "metadata": {},
   "source": [
    "gbc = GradientBoostingClassifier()\n",
    "gbc.fit(x_train, y_train)"
   ],
   "outputs": [],
   "execution_count": null
  },
  {
   "cell_type": "code",
   "id": "53f61466409320ac",
   "metadata": {},
   "source": [
    "y_pred = gbc.predict(x_test)\n",
    "y_pred_prob = gbc.predict_proba(x_test)[:, 1]"
   ],
   "outputs": [],
   "execution_count": null
  },
  {
   "cell_type": "code",
   "id": "a4e49b9043a05547",
   "metadata": {},
   "source": "metrics_result = utils.evaluate_model(y_test, y_pred, y_pred_prob)",
   "outputs": [],
   "execution_count": null
  },
  {
   "cell_type": "code",
   "id": "8348b8df288e8f0f",
   "metadata": {},
   "source": "utils.create_roc_auc_curve(metrics_result['roc_auc'], y_test, y_pred_prob)",
   "outputs": [],
   "execution_count": null
  },
  {
   "cell_type": "markdown",
   "id": "59625cf2ab535587",
   "metadata": {},
   "source": [
    "Using sample weights to give more importance to the minority class to improve model performance"
   ]
  },
  {
   "cell_type": "code",
   "id": "990677ee837274c",
   "metadata": {},
   "source": [
    "sample_weights = np.ones(len(y_train))\n",
    "sample_weights[y_train == 1] = 25\n",
    "\n",
    "gbc_weighted = GradientBoostingClassifier()\n",
    "gbc_weighted.fit(x_train, y_train, sample_weight=sample_weights)"
   ],
   "outputs": [],
   "execution_count": null
  },
  {
   "cell_type": "code",
   "id": "1ec530091cd2bbf6",
   "metadata": {},
   "source": [
    "y_pred_weighted = gbc_weighted.predict(x_test)\n",
    "y_pred_prob_weighted = gbc_weighted.predict_proba(x_test)[:, 1]"
   ],
   "outputs": [],
   "execution_count": null
  },
  {
   "cell_type": "code",
   "id": "2a7b8a2b1bbd7cfc",
   "metadata": {},
   "source": "metrics_result_weighted = utils.evaluate_model(y_test, y_pred_weighted, y_pred_prob_weighted)",
   "outputs": [],
   "execution_count": null
  },
  {
   "cell_type": "code",
   "id": "fe40050e0e64ab43",
   "metadata": {},
   "source": "utils.create_roc_auc_curve(metrics_result_weighted['roc_auc'], y_test, y_pred_prob_weighted)",
   "outputs": [],
   "execution_count": null
  },
  {
   "cell_type": "code",
   "id": "f469c79b3a4b5d8c",
   "metadata": {},
   "source": [],
   "outputs": [],
   "execution_count": null
  }
 ],
 "metadata": {
  "kernelspec": {
   "display_name": "Python 3",
   "language": "python",
   "name": "python3"
  },
  "language_info": {
   "codemirror_mode": {
    "name": "ipython",
    "version": 3
   },
   "file_extension": ".py",
   "mimetype": "text/x-python",
   "name": "python",
   "nbconvert_exporter": "python",
   "pygments_lexer": "ipython3",
   "version": "3.12.3"
  }
 },
 "nbformat": 4,
 "nbformat_minor": 5
}
