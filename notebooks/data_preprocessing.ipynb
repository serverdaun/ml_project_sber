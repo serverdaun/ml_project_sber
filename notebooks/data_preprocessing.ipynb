{
 "cells": [
  {
   "cell_type": "code",
   "id": "initial_id",
   "metadata": {
    "collapsed": true
   },
   "source": [
    "# Setting auto reloading for imported modules\n",
    "%load_ext autoreload\n",
    "%autoreload 2"
   ],
   "outputs": [],
   "execution_count": null
  },
  {
   "metadata": {},
   "cell_type": "code",
   "source": [
    "import pandas as pd\n",
    "import missingno as msno\n",
    "from auxiliary_functions import Utils"
   ],
   "id": "5b7b7221ff9d2fd8",
   "outputs": [],
   "execution_count": null
  },
  {
   "metadata": {},
   "cell_type": "code",
   "source": "prep_utils = Utils()",
   "id": "9c418272dca08b49",
   "outputs": [],
   "execution_count": null
  },
  {
   "metadata": {},
   "cell_type": "code",
   "source": [
    "ga_sessions_path = '../data/skillbox_diploma_main_dataset_sberautopodpiska/ga_sessions.csv'\n",
    "sessions_df = pd.read_csv(ga_sessions_path, low_memory=False)\n",
    "sessions_df.head()"
   ],
   "id": "79285cdc7c597e6",
   "outputs": [],
   "execution_count": null
  },
  {
   "metadata": {},
   "cell_type": "code",
   "source": [
    "ga_hits_path = '../data/skillbox_diploma_main_dataset_sberautopodpiska/ga_hits-002.csv'\n",
    "hits_df = pd.read_csv(ga_hits_path, low_memory=False)\n",
    "hits_df.head()"
   ],
   "id": "b10f1eb4720d00b1",
   "outputs": [],
   "execution_count": null
  },
  {
   "metadata": {},
   "cell_type": "markdown",
   "source": [
    "**Data preprocessing**\n",
    "<br>\n",
    "*Duplicates*"
   ],
   "id": "b11be94b51ed518a"
  },
  {
   "metadata": {},
   "cell_type": "code",
   "source": "prep_utils.print_basic_stats(sessions_df, level='shape')",
   "id": "80e3aad6514d7e2a",
   "outputs": [],
   "execution_count": null
  },
  {
   "metadata": {},
   "cell_type": "code",
   "source": "sessions_df.describe(include='all')",
   "id": "c2c4687e7531922b",
   "outputs": [],
   "execution_count": null
  },
  {
   "metadata": {},
   "cell_type": "code",
   "source": "hits_df.describe(include='all')",
   "id": "a0912242a77c0852",
   "outputs": [],
   "execution_count": null
  },
  {
   "metadata": {},
   "cell_type": "code",
   "source": [
    "prep_utils.check_duplicates(sessions_df)\n",
    "prep_utils.check_duplicates(hits_df)"
   ],
   "id": "780ddee5e2df8c07",
   "outputs": [],
   "execution_count": null
  },
  {
   "metadata": {},
   "cell_type": "markdown",
   "source": [
    "**Data preprocessing**\n",
    "<br>\n",
    "*Handle Missing Values*\n",
    "<br>\n",
    "*Sessions dataframe*"
   ],
   "id": "bcf8d51f02835f24"
  },
  {
   "metadata": {},
   "cell_type": "code",
   "source": "msno.matrix(sessions_df);",
   "id": "50bc7c1ff20fa464",
   "outputs": [],
   "execution_count": null
  },
  {
   "metadata": {},
   "cell_type": "code",
   "source": "sessions_df_clean = sessions_df.copy()",
   "id": "66294456ada28b45",
   "outputs": [],
   "execution_count": null
  },
  {
   "metadata": {},
   "cell_type": "code",
   "source": "prep_utils.missing_values_percentage(sessions_df_clean)",
   "id": "19e4b3b85082437d",
   "outputs": [],
   "execution_count": null
  },
  {
   "metadata": {},
   "cell_type": "code",
   "source": "sessions_df_clean[sessions_df_clean.device_model.notna()]",
   "id": "4adbdae0e88fe65e",
   "outputs": [],
   "execution_count": null
  },
  {
   "metadata": {},
   "cell_type": "code",
   "source": "sessions_df_clean.device_model.value_counts()",
   "id": "5b2b81f039ed843",
   "outputs": [],
   "execution_count": null
  },
  {
   "metadata": {},
   "cell_type": "code",
   "source": [
    "sessions_df_clean = sessions_df_clean.drop(columns=['device_model'], axis=1)\n",
    "prep_utils.missing_values_percentage(sessions_df_clean)"
   ],
   "id": "e73ace111ce709d2",
   "outputs": [],
   "execution_count": null
  },
  {
   "metadata": {},
   "cell_type": "code",
   "source": "sessions_df_clean[sessions_df_clean.utm_source.isna()].head(20)",
   "id": "f54a96edf8ef7a5e",
   "outputs": [],
   "execution_count": null
  },
  {
   "metadata": {},
   "cell_type": "code",
   "source": "sessions_df_clean[(sessions_df_clean.utm_source.isna()) & (sessions_df_clean.visit_number == 1)]",
   "id": "605c5748007c37b3",
   "outputs": [],
   "execution_count": null
  },
  {
   "metadata": {},
   "cell_type": "code",
   "source": "sessions_df_clean[sessions_df_clean.utm_source.notna()].head(10)",
   "id": "9031054e2e3335a7",
   "outputs": [],
   "execution_count": null
  },
  {
   "metadata": {},
   "cell_type": "code",
   "source": [
    "sessions_df_clean.utm_source = sessions_df_clean.utm_source.fillna('(not set)')\n",
    "prep_utils.missing_values_percentage(sessions_df_clean)"
   ],
   "id": "d24a673867c9384f",
   "outputs": [],
   "execution_count": null
  },
  {
   "metadata": {},
   "cell_type": "code",
   "source": "sessions_df_clean[sessions_df_clean.device_os.isna()].head()",
   "id": "118f3bacd2f69dbb",
   "outputs": [],
   "execution_count": null
  },
  {
   "metadata": {},
   "cell_type": "code",
   "source": "sessions_df_clean.device_os.value_counts()",
   "id": "45f777fdae18ecd9",
   "outputs": [],
   "execution_count": null
  },
  {
   "metadata": {},
   "cell_type": "code",
   "source": [
    "brands_w_missing_os = sessions_df_clean[sessions_df_clean.device_os.isna()].device_brand.value_counts().to_dict()\n",
    "brands_w_missing_os"
   ],
   "id": "f11aae4d3a987eca",
   "outputs": [],
   "execution_count": null
  },
  {
   "metadata": {},
   "cell_type": "code",
   "source": "sessions_df_clean.loc[(sessions_df_clean.device_os.isna()) & (sessions_df_clean.device_brand == 'Apple'), 'device_os'] = 'iOS'",
   "id": "377f132b54ff7e18",
   "outputs": [],
   "execution_count": null
  },
  {
   "metadata": {},
   "cell_type": "code",
   "source": [
    "android_based = ['Samsung', 'Xiaomi', 'Huawei', 'Realme']\n",
    "sessions_df_clean.loc[(sessions_df_clean.device_os.isna()) & (sessions_df_clean.device_brand.isin(android_based)), 'device_os'] = 'Android'"
   ],
   "id": "849659cfc95a6fdc",
   "outputs": [],
   "execution_count": null
  },
  {
   "metadata": {},
   "cell_type": "code",
   "source": "sessions_df_clean.device_os = sessions_df_clean.device_os.fillna('(not set)')",
   "id": "7e50c1b974aa93f6",
   "outputs": [],
   "execution_count": null
  },
  {
   "metadata": {},
   "cell_type": "code",
   "source": "prep_utils.missing_values_percentage(sessions_df_clean)",
   "id": "77980012c9f6d63b",
   "outputs": [],
   "execution_count": null
  },
  {
   "metadata": {},
   "cell_type": "code",
   "source": "sessions_df_clean[sessions_df_clean.utm_keyword.isna()].head(20)",
   "id": "77aced641e0cd1d1",
   "outputs": [],
   "execution_count": null
  },
  {
   "metadata": {},
   "cell_type": "code",
   "source": "sessions_df_clean[sessions_df_clean.utm_keyword.notna()].head(20)",
   "id": "6663a85f43078227",
   "outputs": [],
   "execution_count": null
  },
  {
   "metadata": {},
   "cell_type": "code",
   "source": [
    "utm_keyword_values = sessions_df_clean.utm_keyword.value_counts(dropna=False).to_dict()\n",
    "utm_keyword_values"
   ],
   "id": "973d7ee5fef071b6",
   "outputs": [],
   "execution_count": null
  },
  {
   "metadata": {},
   "cell_type": "code",
   "source": [
    "sessions_df_clean.utm_keyword = sessions_df_clean.utm_keyword.fillna('(not set)')\n",
    "prep_utils.missing_values_percentage(sessions_df_clean)"
   ],
   "id": "45fdf9a0c492ca3f",
   "outputs": [],
   "execution_count": null
  },
  {
   "metadata": {},
   "cell_type": "code",
   "source": "sessions_df_clean[sessions_df_clean.utm_adcontent.isna()].head(20)",
   "id": "4627e158fbacb164",
   "outputs": [],
   "execution_count": null
  },
  {
   "metadata": {},
   "cell_type": "code",
   "source": [
    "sessions_df_clean.utm_adcontent = sessions_df_clean.utm_adcontent.fillna('(not set)')\n",
    "sessions_df_clean.utm_campaign = sessions_df_clean.utm_campaign.fillna('(not set)')\n",
    "prep_utils.missing_values_percentage(sessions_df_clean)"
   ],
   "id": "aedc706931cffa4f",
   "outputs": [],
   "execution_count": null
  },
  {
   "metadata": {},
   "cell_type": "code",
   "source": "sessions_df_clean[sessions_df_clean.device_brand.isna()].head(20)",
   "id": "338a372eb0e461b9",
   "outputs": [],
   "execution_count": null
  },
  {
   "metadata": {},
   "cell_type": "code",
   "source": [
    "sessions_df_clean.device_brand = sessions_df_clean.device_brand.fillna('(not set)')\n",
    "prep_utils.missing_values_percentage(sessions_df_clean)"
   ],
   "id": "925bf1801af404cd",
   "outputs": [],
   "execution_count": null
  },
  {
   "metadata": {},
   "cell_type": "markdown",
   "source": [
    "**Data Preparation**\n",
    "<br>\n",
    "*Hits dataframe*"
   ],
   "id": "10084f9f20356099"
  },
  {
   "metadata": {},
   "cell_type": "markdown",
   "source": "",
   "id": "b2a76da5eb13d4b6"
  },
  {
   "metadata": {},
   "cell_type": "code",
   "source": "msno.matrix(hits_df);",
   "id": "545331bfb93be6f0",
   "outputs": [],
   "execution_count": null
  },
  {
   "metadata": {},
   "cell_type": "code",
   "source": "hits_df.head()",
   "id": "b471d64dcb091925",
   "outputs": [],
   "execution_count": null
  },
  {
   "metadata": {},
   "cell_type": "code",
   "source": "prep_utils.missing_values_percentage(hits_df)",
   "id": "aac24a6a0e4c814c",
   "outputs": [],
   "execution_count": null
  },
  {
   "metadata": {},
   "cell_type": "code",
   "source": [
    "target_events = ['sub_car_claim_click', 'sub_car_claim_submit_click',\n",
    "'sub_open_dialog_click', 'sub_custom_question_submit_click',\n",
    "'sub_call_number_click', 'sub_callback_submit_click', 'sub_submit_success',\n",
    "'sub_car_request_submit_click']\n",
    "\n",
    "hits_df['target_event'] = hits_df.event_action.apply(lambda x: 1 if x in target_events else 0)\n",
    "hits_df['CR'] = hits_df.groupby('session_id')['target_event'].transform('max')\n",
    "hits_df['CR'] = hits_df['CR'].astype('int')\n",
    "hits_df.head()"
   ],
   "id": "9a9932a503933ed5",
   "outputs": [],
   "execution_count": null
  },
  {
   "metadata": {},
   "cell_type": "code",
   "source": "hits_df.CR.value_counts()",
   "id": "bd823a17b956bdcb",
   "outputs": [],
   "execution_count": null
  },
  {
   "metadata": {},
   "cell_type": "code",
   "source": [
    "unique_hits_cr = hits_df[['session_id', 'CR']].drop_duplicates(subset='session_id', keep='first')\n",
    "sessions_w_cr = sessions_df_clean.merge(unique_hits_cr, on='session_id', how='inner')\n",
    "sessions_w_cr.head()"
   ],
   "id": "46d12f20e8f4d187",
   "outputs": [],
   "execution_count": null
  },
  {
   "metadata": {},
   "cell_type": "code",
   "source": "sessions_w_cr[sessions_w_cr.CR == 1].head()",
   "id": "7fa2c2e34ed8e50a",
   "outputs": [],
   "execution_count": null
  },
  {
   "metadata": {},
   "cell_type": "code",
   "source": "prep_utils.print_basic_stats(df=sessions_w_cr, level='shape')",
   "id": "46ebbb3321eeb8e8",
   "outputs": [],
   "execution_count": null
  },
  {
   "metadata": {},
   "cell_type": "markdown",
   "source": [
    "**Data Preparation**\n",
    "<br>\n",
    "*Data Cleaning*\n",
    "<br>\n",
    "*Removing Irrelevant Features*"
   ],
   "id": "a608e75e17c2d717"
  },
  {
   "metadata": {},
   "cell_type": "code",
   "source": "df = sessions_w_cr.copy()",
   "id": "a3169be9b6372ad1",
   "outputs": [],
   "execution_count": null
  },
  {
   "metadata": {},
   "cell_type": "markdown",
   "source": "Task specified which columns must be passed to model, so other irrelevant columns will be dropped.",
   "id": "cf0e20c53d53b3ff"
  },
  {
   "metadata": {},
   "cell_type": "code",
   "source": [
    "columns_to_drop = ['session_id', 'client_id', 'visit_date', 'visit_time', 'visit_number']\n",
    "df = df.drop(columns=columns_to_drop)\n",
    "df.head()"
   ],
   "id": "f63151b0f51932d7",
   "outputs": [],
   "execution_count": null
  },
  {
   "metadata": {},
   "cell_type": "code",
   "source": "df.to_csv('../data/clean_data/clean_sessions_with_cr.csv', index=False)",
   "id": "30113fed23dde78a",
   "outputs": [],
   "execution_count": null
  },
  {
   "metadata": {},
   "cell_type": "code",
   "source": "",
   "id": "d6fc60126282c8ab",
   "outputs": [],
   "execution_count": null
  }
 ],
 "metadata": {
  "kernelspec": {
   "display_name": "Python 3",
   "language": "python",
   "name": "python3"
  },
  "language_info": {
   "codemirror_mode": {
    "name": "ipython",
    "version": 2
   },
   "file_extension": ".py",
   "mimetype": "text/x-python",
   "name": "python",
   "nbconvert_exporter": "python",
   "pygments_lexer": "ipython2",
   "version": "2.7.6"
  }
 },
 "nbformat": 4,
 "nbformat_minor": 5
}
